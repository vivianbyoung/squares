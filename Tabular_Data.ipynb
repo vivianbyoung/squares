{
 "cells": [
  {
   "cell_type": "code",
   "execution_count": 24,
   "metadata": {},
   "outputs": [],
   "source": [
    "from PIL import Image\n",
    "import os\n",
    "import pandas as pd\n",
    "import math\n",
    "import warnings"
   ]
  },
  {
   "cell_type": "code",
   "execution_count": 25,
   "metadata": {},
   "outputs": [],
   "source": [
    "# Create function that returns the RGB values of the center pixel of an image\n",
    "def get_RGB(image_path):\n",
    "    im = Image.open(image_path)\n",
    "    img = im.load()\n",
    "    r, g, b = img[im.size[0]//2, im.size[1]//2]\n",
    "    return r, g, b"
   ]
  },
  {
   "cell_type": "code",
   "execution_count": 26,
   "metadata": {},
   "outputs": [],
   "source": [
    "# Create function that counts the number of white pixels in an image\n",
    "def count_white_pixels(image_path):\n",
    "    img = Image.open(image_path)\n",
    "    width, height = img.size\n",
    "    white_pixel_count = 0\n",
    "    \n",
    "    for x in range(width):\n",
    "        for y in range(height):\n",
    "            r, g, b = img.getpixel((x, y))\n",
    "            if r == 255 and g == 255 and b == 255:\n",
    "                white_pixel_count += 1\n",
    "    return white_pixel_count"
   ]
  },
  {
   "cell_type": "code",
   "execution_count": 27,
   "metadata": {},
   "outputs": [],
   "source": [
    "# Create function that counts the number of color pixels in an image\n",
    "def count_color_pixels(image_path):\n",
    "    img = Image.open(image_path)\n",
    "    width, height = img.size\n",
    "    color_pixel_count = 0\n",
    "    mid_r, mid_g, mid_b = get_RGB(image_path)\n",
    "\n",
    "    for x in range(width):\n",
    "        for y in range(height):\n",
    "            r, g, b = img.getpixel((x, y))\n",
    "            if r == mid_r and g == mid_g and b == mid_b:\n",
    "                color_pixel_count += 1\n",
    "    return color_pixel_count"
   ]
  },
  {
   "cell_type": "code",
   "execution_count": 28,
   "metadata": {},
   "outputs": [],
   "source": [
    "# Create function that counts the number of white and color pixels in an image\n",
    "def count_pixels(image_path):\n",
    "    img = Image.open(image_path)\n",
    "    width, height = img.size\n",
    "    white_pixel_count = 0\n",
    "    color_pixel_count = 0\n",
    "    mid_r, mid_g, mid_b = get_RGB(image_path)\n",
    "    avg_mid_rgb = (mid_r + mid_g + mid_b)/3\n",
    "\n",
    "    for x in range(width):\n",
    "        for y in range(height):\n",
    "            r, g, b = img.getpixel((x, y))\n",
    "            avg_rgb = (r + g + b)/3\n",
    "            diff_mid_rgb = abs(avg_rgb - avg_mid_rgb)\n",
    "            diff_white =  abs(avg_rgb - 255)\n",
    "            # Account for JPEG compression by checking if pixel color is closer to white or to the center pixel color\n",
    "            if (r == 255 and g == 255 and b == 255) or diff_white < diff_mid_rgb:\n",
    "                white_pixel_count += 1\n",
    "            else:\n",
    "                color_pixel_count += 1\n",
    "\n",
    "    return white_pixel_count, color_pixel_count"
   ]
  },
  {
   "cell_type": "code",
   "execution_count": 29,
   "metadata": {},
   "outputs": [],
   "source": [
    "# Create function to generate tabular dataset with relevant numerical values relating to the images\n",
    "def generate_dataset(class_ids, folder_path):\n",
    "    df = pd.DataFrame(columns=['total_pixel_count', 'color_pixel_count', 'white_pixel_count', 'color_ratio', 'r', 'g', 'b']) \n",
    "    for class_id in class_ids:\n",
    "        source_subdir = os.path.join(folder_path, class_id)\n",
    "        for filename in os.listdir(source_subdir):\n",
    "            file_path = os.path.join(source_subdir, filename)\n",
    "            img = Image.open(file_path)\n",
    "            \n",
    "            width = img.size[0]\n",
    "            total_pixel_count = width*width\n",
    "            white_pixel_count, color_pixel_count = count_pixels(file_path)\n",
    "            color_width = math.sqrt(color_pixel_count)\n",
    "            color_ratio = color_pixel_count/total_pixel_count\n",
    "            r, g, b = get_RGB(file_path)\n",
    "            \n",
    "            df = df.append({'width': width,\n",
    "                            'total_pixel_count': total_pixel_count,\n",
    "                            'white_pixel_count': white_pixel_count,\n",
    "                            'color_pixel_count': color_pixel_count,\n",
    "                            'color_width': color_width,\n",
    "                            'color_ratio': color_ratio,\n",
    "                            'r': r,\n",
    "                            'g': g,\n",
    "                            'b': b,\n",
    "                            'class_id': class_id},\n",
    "                            ignore_index=True)\n",
    "            \n",
    "    return df"
   ]
  },
  {
   "cell_type": "code",
   "execution_count": 30,
   "metadata": {},
   "outputs": [
    {
     "name": "stdout",
     "output_type": "stream",
     "text": [
      "['a', 'b', 'c']\n"
     ]
    }
   ],
   "source": [
    "# Specify relevant paths for data\n",
    "SOURCE = 'squares'\n",
    "TRAIN = os.path.join(SOURCE, \"train\")\n",
    "TEST = os.path.join(SOURCE, \"val\")\n",
    "class_ids = sorted(os.listdir(TRAIN))\n",
    "print(class_ids)"
   ]
  },
  {
   "cell_type": "code",
   "execution_count": 31,
   "metadata": {},
   "outputs": [],
   "source": [
    "# Suppress pandas warnings about the append function because they're annoying :P\n",
    "warnings.simplefilter(action='ignore', category=FutureWarning)"
   ]
  },
  {
   "cell_type": "code",
   "execution_count": 32,
   "metadata": {},
   "outputs": [],
   "source": [
    "# Create tabular dataset from the training image set\n",
    "training_df = generate_dataset(class_ids, TRAIN)"
   ]
  },
  {
   "cell_type": "code",
   "execution_count": 34,
   "metadata": {},
   "outputs": [],
   "source": [
    "# Export tabular training dataset to CSV\n",
    "training_df.to_csv('training_data.csv', index=False)"
   ]
  },
  {
   "cell_type": "code",
   "execution_count": 35,
   "metadata": {},
   "outputs": [],
   "source": [
    "# Create tabular dataset from the test image set\n",
    "test_df = generate_dataset(class_ids, TEST)"
   ]
  },
  {
   "cell_type": "code",
   "execution_count": 36,
   "metadata": {},
   "outputs": [],
   "source": [
    "# Export tabular test dataset to CSV\n",
    "test_df.to_csv('test_data.csv', index=False)"
   ]
  }
 ],
 "metadata": {
  "kernelspec": {
   "display_name": "downgrade",
   "language": "python",
   "name": "python3"
  },
  "language_info": {
   "codemirror_mode": {
    "name": "ipython",
    "version": 3
   },
   "file_extension": ".py",
   "mimetype": "text/x-python",
   "name": "python",
   "nbconvert_exporter": "python",
   "pygments_lexer": "ipython3",
   "version": "3.8.16"
  },
  "orig_nbformat": 4
 },
 "nbformat": 4,
 "nbformat_minor": 2
}
